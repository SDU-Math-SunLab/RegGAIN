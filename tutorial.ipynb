{
 "cells": [
  {
   "cell_type": "markdown",
   "metadata": {},
   "source": [
    "# Overview\n",
    "\n",
    "RegGAIN is a self-supervised graph contrastive learning framework that infers GRNs by integrating scRNA-seq data with a species-specific prior gene network (e.g. human, mouse). The model outputs directed, cell-type-resolved GRNs, where edges represent predicted TF-target regulatory scores derived from the learned embeddings. These reconstructed GRNs support downstream analyses such as gene module detection, network rewiring across both discrete conditions (e.g., disease and control) and continuous processes (e.g., time-series data), and TF prioritization for biological or clinical interpretation.\n",
    "\n",
    "Here, we demonstrate the application of RegGAIN using the mouse hematopoietic stem cell lymphoid-lineage (mHSC-L) scRNA-seq dataset."
   ]
  },
  {
   "cell_type": "markdown",
   "metadata": {},
   "source": [
    "## Preparations\n",
    "\n",
    "Before starting the tutorial, we need to do some preparations, including: installing RegGAIN and its required Python packages, etc. These preparations can be completed by following the step-by-step installation guide provided in the README.\n"
   ]
  },
  {
   "cell_type": "code",
   "execution_count": 1,
   "metadata": {},
   "outputs": [
    {
     "name": "stderr",
     "output_type": "stream",
     "text": [
      "/home/guanqiyuan/anaconda3/envs/qyguan/lib/python3.9/site-packages/tqdm/auto.py:21: TqdmWarning: IProgress not found. Please update jupyter and ipywidgets. See https://ipywidgets.readthedocs.io/en/stable/user_install.html\n",
      "  from .autonotebook import tqdm as notebook_tqdm\n"
     ]
    },
    {
     "name": "stdout",
     "output_type": "stream",
     "text": [
      "Using device: cuda\n"
     ]
    }
   ],
   "source": [
    "# Import your package and essential libraries\n",
    "import RegGAIN_script as rg\n",
    "import pandas as pd\n",
    "import torch\n",
    "\n",
    "# Check if a GPU is available and set the device accordingly\n",
    "device = \"cuda\" if torch.cuda.is_available() else \"cpu\"\n",
    "print(f\"Using device: {device}\")"
   ]
  },
  {
   "cell_type": "markdown",
   "metadata": {},
   "source": [
    "## Inputs and preprocessing\n",
    "\n",
    "Load the scRNA-seq data and the prior gene interaction network."
   ]
  },
  {
   "cell_type": "code",
   "execution_count": 2,
   "metadata": {},
   "outputs": [
    {
     "name": "stdout",
     "output_type": "stream",
     "text": [
      "Start preprocessing! \n",
      "Total number of prior network edges: 14661\n",
      "Number of nodes with out-degree > 50: 58\n",
      "Finish! Data shape: n_genes × n_cells = 692 × 847\n"
     ]
    }
   ],
   "source": [
    "# Provide the paths to your data files here.\n",
    "exp_data_path = \"data.csv\" \n",
    "prior_net_path = \"network_XX.csv\"\n",
    "\n",
    "# This section demonstrates the preprocessing steps.\n",
    "adata = rg.data_preparation(exp_data_path, prior_net_path)\n",
    "pyg_data = rg.get_PYG_data(adata, torch.device(device))\n"
   ]
  },
  {
   "cell_type": "markdown",
   "metadata": {},
   "source": [
    "## Construct the cell-type-specific gene regulatory network"
   ]
  },
  {
   "cell_type": "code",
   "execution_count": 3,
   "metadata": {},
   "outputs": [
    {
     "name": "stdout",
     "output_type": "stream",
     "text": [
      "Using device: cuda\n",
      "Start preprocessing! \n",
      "Total number of prior network edges: 14661\n",
      "Number of nodes with out-degree > 50: 58\n",
      "Finish! Data shape: n_genes × n_cells = 692 × 847\n",
      "Start training!\n"
     ]
    },
    {
     "name": "stderr",
     "output_type": "stream",
     "text": [
      "Run 1/10: 100%|██████████| 500/500 [00:50<00:00,  9.99epoch/s]\n",
      "Run 2/10: 100%|██████████| 500/500 [00:50<00:00,  9.87epoch/s]\n",
      "Run 3/10: 100%|██████████| 500/500 [00:49<00:00, 10.17epoch/s]\n",
      "Run 4/10: 100%|██████████| 500/500 [00:50<00:00,  9.91epoch/s]\n",
      "Run 5/10: 100%|██████████| 500/500 [00:49<00:00, 10.09epoch/s]\n",
      "Run 6/10: 100%|██████████| 500/500 [00:52<00:00,  9.60epoch/s]\n",
      "Run 7/10: 100%|██████████| 500/500 [00:53<00:00,  9.30epoch/s]\n",
      "Run 8/10: 100%|██████████| 500/500 [00:53<00:00,  9.39epoch/s]\n",
      "Run 9/10: 100%|██████████| 500/500 [00:55<00:00,  9.01epoch/s]\n",
      "Run 10/10: 100%|██████████| 500/500 [00:53<00:00,  9.38epoch/s]\n"
     ]
    },
    {
     "name": "stdout",
     "output_type": "stream",
     "text": [
      "Training finished. Processing results...\n",
      "Result processing complete.\n"
     ]
    }
   ],
   "source": [
    "import importlib\n",
    "importlib.reload(rg)\n",
    "# Set hyperparameters (default)\n",
    "config = {\n",
    "    'epochs': 500,  \n",
    "    'lr': 0.001,\n",
    "    'device': device,\n",
    "    'repeat': 10,\n",
    "    'seed': 42,\n",
    "    'k': 50,\n",
    "    'adjacency_powers': [0, 1, 2],\n",
    "    'first_layer_dims': [80, 80, 10],\n",
    "    'hidden_layer_dims_list': \"40 40 5,16 16 2\",\n",
    "    'pos': 10,\n",
    "    \n",
    "    # Data augmentation parameters\n",
    "    'edge_alpha1': 0.6, 'edge_alpha2': 0.3,\n",
    "    'edge_beta1': 0.3, 'edge_beta2': 0.3,\n",
    "    'node_alpha1': 0.5, 'node_alpha2': 0.2,\n",
    "    'node_beta1': 0.2, 'node_beta2': 0.2,\n",
    "}\n",
    "\n",
    "\n",
    "#  Run the RegGAIN algorithm\n",
    "results = rg.run_reggain(\n",
    "    exp_data=exp_data_path,\n",
    "    prior_net=prior_net_path,\n",
    "    config=config\n",
    ")"
   ]
  },
  {
   "cell_type": "markdown",
   "metadata": {},
   "source": [
    "## Inspect and analyze the results "
   ]
  },
  {
   "cell_type": "code",
   "execution_count": 4,
   "metadata": {},
   "outputs": [
    {
     "name": "stdout",
     "output_type": "stream",
     "text": [
      "\n",
      "Shape of embeddings:\n",
      "(692, 34)\n",
      "(692, 34)\n"
     ]
    }
   ],
   "source": [
    "GRN_df = results['GRN']\n",
    "embedding_in = results['embedding_in']\n",
    "embedding_out = results['embedding_out']\n",
    "\n",
    "\n",
    "print(\"\\nShape of embeddings:\")\n",
    "print(embedding_in.shape)\n",
    "print(embedding_out.shape)"
   ]
  },
  {
   "cell_type": "code",
   "execution_count": null,
   "metadata": {},
   "outputs": [
    {
     "data": {
      "text/html": [
       "<div>\n",
       "<style scoped>\n",
       "    .dataframe tbody tr th:only-of-type {\n",
       "        vertical-align: middle;\n",
       "    }\n",
       "\n",
       "    .dataframe tbody tr th {\n",
       "        vertical-align: top;\n",
       "    }\n",
       "\n",
       "    .dataframe thead th {\n",
       "        text-align: right;\n",
       "    }\n",
       "</style>\n",
       "<table border=\"1\" class=\"dataframe\">\n",
       "  <thead>\n",
       "    <tr style=\"text-align: right;\">\n",
       "      <th></th>\n",
       "      <th>TF</th>\n",
       "      <th>Target</th>\n",
       "      <th>value</th>\n",
       "    </tr>\n",
       "  </thead>\n",
       "  <tbody>\n",
       "    <tr>\n",
       "      <th>0</th>\n",
       "      <td>NFIA</td>\n",
       "      <td>MYC</td>\n",
       "      <td>246.320430</td>\n",
       "    </tr>\n",
       "    <tr>\n",
       "      <th>1</th>\n",
       "      <td>IGF1</td>\n",
       "      <td>MYC</td>\n",
       "      <td>246.255165</td>\n",
       "    </tr>\n",
       "    <tr>\n",
       "      <th>2</th>\n",
       "      <td>NFE2</td>\n",
       "      <td>MYC</td>\n",
       "      <td>245.602342</td>\n",
       "    </tr>\n",
       "    <tr>\n",
       "      <th>3</th>\n",
       "      <td>IGF1</td>\n",
       "      <td>ESR1</td>\n",
       "      <td>245.223019</td>\n",
       "    </tr>\n",
       "    <tr>\n",
       "      <th>4</th>\n",
       "      <td>MEIS1</td>\n",
       "      <td>MYC</td>\n",
       "      <td>245.133118</td>\n",
       "    </tr>\n",
       "    <tr>\n",
       "      <th>5</th>\n",
       "      <td>FOXO1</td>\n",
       "      <td>ESR1</td>\n",
       "      <td>244.866429</td>\n",
       "    </tr>\n",
       "    <tr>\n",
       "      <th>6</th>\n",
       "      <td>IGF1</td>\n",
       "      <td>CD44</td>\n",
       "      <td>244.708844</td>\n",
       "    </tr>\n",
       "    <tr>\n",
       "      <th>7</th>\n",
       "      <td>GFI1B</td>\n",
       "      <td>MYC</td>\n",
       "      <td>244.658742</td>\n",
       "    </tr>\n",
       "    <tr>\n",
       "      <th>8</th>\n",
       "      <td>FOXO1</td>\n",
       "      <td>XRCC6</td>\n",
       "      <td>244.605643</td>\n",
       "    </tr>\n",
       "    <tr>\n",
       "      <th>9</th>\n",
       "      <td>FOXO1</td>\n",
       "      <td>CD44</td>\n",
       "      <td>244.456465</td>\n",
       "    </tr>\n",
       "    <tr>\n",
       "      <th>10</th>\n",
       "      <td>DUSP1</td>\n",
       "      <td>MYC</td>\n",
       "      <td>244.370641</td>\n",
       "    </tr>\n",
       "    <tr>\n",
       "      <th>11</th>\n",
       "      <td>NFIA</td>\n",
       "      <td>ESR1</td>\n",
       "      <td>244.306151</td>\n",
       "    </tr>\n",
       "    <tr>\n",
       "      <th>12</th>\n",
       "      <td>FOXO1</td>\n",
       "      <td>NPM1</td>\n",
       "      <td>243.926390</td>\n",
       "    </tr>\n",
       "    <tr>\n",
       "      <th>13</th>\n",
       "      <td>FOXO1</td>\n",
       "      <td>HNF4A</td>\n",
       "      <td>243.801471</td>\n",
       "    </tr>\n",
       "    <tr>\n",
       "      <th>14</th>\n",
       "      <td>NFIA</td>\n",
       "      <td>CD44</td>\n",
       "      <td>243.693803</td>\n",
       "    </tr>\n",
       "    <tr>\n",
       "      <th>15</th>\n",
       "      <td>IGF1</td>\n",
       "      <td>FLNA</td>\n",
       "      <td>243.074641</td>\n",
       "    </tr>\n",
       "    <tr>\n",
       "      <th>16</th>\n",
       "      <td>NFE2</td>\n",
       "      <td>XRCC6</td>\n",
       "      <td>242.960632</td>\n",
       "    </tr>\n",
       "    <tr>\n",
       "      <th>17</th>\n",
       "      <td>NFE2</td>\n",
       "      <td>CD44</td>\n",
       "      <td>242.909212</td>\n",
       "    </tr>\n",
       "    <tr>\n",
       "      <th>18</th>\n",
       "      <td>LYN</td>\n",
       "      <td>MYC</td>\n",
       "      <td>242.568768</td>\n",
       "    </tr>\n",
       "    <tr>\n",
       "      <th>19</th>\n",
       "      <td>IGF1</td>\n",
       "      <td>HNF4A</td>\n",
       "      <td>242.519733</td>\n",
       "    </tr>\n",
       "  </tbody>\n",
       "</table>\n",
       "</div>"
      ],
      "text/plain": [
       "       TF Target       value\n",
       "0    NFIA    MYC  246.320430\n",
       "1    IGF1    MYC  246.255165\n",
       "2    NFE2    MYC  245.602342\n",
       "3    IGF1   ESR1  245.223019\n",
       "4   MEIS1    MYC  245.133118\n",
       "5   FOXO1   ESR1  244.866429\n",
       "6    IGF1   CD44  244.708844\n",
       "7   GFI1B    MYC  244.658742\n",
       "8   FOXO1  XRCC6  244.605643\n",
       "9   FOXO1   CD44  244.456465\n",
       "10  DUSP1    MYC  244.370641\n",
       "11   NFIA   ESR1  244.306151\n",
       "12  FOXO1   NPM1  243.926390\n",
       "13  FOXO1  HNF4A  243.801471\n",
       "14   NFIA   CD44  243.693803\n",
       "15   IGF1   FLNA  243.074641\n",
       "16   NFE2  XRCC6  242.960632\n",
       "17   NFE2   CD44  242.909212\n",
       "18    LYN    MYC  242.568768\n",
       "19   IGF1  HNF4A  242.519733"
      ]
     },
     "execution_count": 10,
     "metadata": {},
     "output_type": "execute_result"
    }
   ],
   "source": [
    "GRN_df.head(20)\n"
   ]
  },
  {
   "cell_type": "markdown",
   "metadata": {},
   "source": [
    "## (Optional) Run evaluation"
   ]
  },
  {
   "cell_type": "code",
   "execution_count": 6,
   "metadata": {},
   "outputs": [],
   "source": [
    "# Provide paths to the ground truth label files.\n",
    "label_string_path = \"Label_STRING.csv\"\n",
    "label_non_specific_path = \"Label_Non-Specific.csv\"\n",
    "label_specific_path = \"Label_Specific.csv\""
   ]
  },
  {
   "cell_type": "markdown",
   "metadata": {},
   "source": [
    "### Evaluate against the STRING network"
   ]
  },
  {
   "cell_type": "code",
   "execution_count": 7,
   "metadata": {},
   "outputs": [
    {
     "name": "stdout",
     "output_type": "stream",
     "text": [
      "Label.csv EPR: 3.727441389779052\n",
      "Label.csv AUPR ratio: 3.1120957239725637\n"
     ]
    },
    {
     "data": {
      "text/plain": [
       "(3.727441389779052, 3.1120957239725637)"
      ]
     },
     "execution_count": 7,
     "metadata": {},
     "output_type": "execute_result"
    }
   ],
   "source": [
    "rg.calculate_epr_aupr(GRN_df, label_string_path, 'Gene1', 'Gene2', 'TF', 'Target', 'value')"
   ]
  },
  {
   "cell_type": "markdown",
   "metadata": {},
   "source": [
    "### Evaluate against the Non-Specific network"
   ]
  },
  {
   "cell_type": "code",
   "execution_count": 8,
   "metadata": {},
   "outputs": [
    {
     "name": "stdout",
     "output_type": "stream",
     "text": [
      "Label.csv EPR: 3.4816945138273843\n",
      "Label.csv AUPR ratio: 3.535993023825075\n"
     ]
    },
    {
     "data": {
      "text/plain": [
       "(3.4816945138273843, 3.535993023825075)"
      ]
     },
     "execution_count": 8,
     "metadata": {},
     "output_type": "execute_result"
    }
   ],
   "source": [
    "rg.calculate_epr_aupr(GRN_df, label_non_specific_path, 'Gene1', 'Gene2', 'TF', 'Target', 'value')"
   ]
  },
  {
   "cell_type": "markdown",
   "metadata": {},
   "source": [
    "### Evaluate against the cell-type-specific network"
   ]
  },
  {
   "cell_type": "code",
   "execution_count": 9,
   "metadata": {},
   "outputs": [
    {
     "name": "stdout",
     "output_type": "stream",
     "text": [
      "Label.csv EPR: 1.1789126578315767\n",
      "Label.csv AUPR ratio: 1.232644665273911\n"
     ]
    },
    {
     "data": {
      "text/plain": [
       "(1.1789126578315767, 1.232644665273911)"
      ]
     },
     "execution_count": 9,
     "metadata": {},
     "output_type": "execute_result"
    }
   ],
   "source": [
    "rg.calculate_epr_aupr(GRN_df, label_specific_path, 'Gene1', 'Gene2', 'TF', 'Target', 'value')"
   ]
  }
 ],
 "metadata": {
  "kernelspec": {
   "display_name": "qyguan",
   "language": "python",
   "name": "python3"
  },
  "language_info": {
   "codemirror_mode": {
    "name": "ipython",
    "version": 3
   },
   "file_extension": ".py",
   "mimetype": "text/x-python",
   "name": "python",
   "nbconvert_exporter": "python",
   "pygments_lexer": "ipython3",
   "version": "3.9.19"
  }
 },
 "nbformat": 4,
 "nbformat_minor": 2
}
